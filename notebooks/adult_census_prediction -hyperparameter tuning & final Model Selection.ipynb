{
 "cells": [
  {
   "cell_type": "code",
   "execution_count": null,
   "id": "f5b6f9ab",
   "metadata": {},
   "outputs": [],
   "source": []
  },
  {
   "cell_type": "code",
   "execution_count": null,
   "id": "96c5f1ec",
   "metadata": {},
   "outputs": [],
   "source": []
  },
  {
   "cell_type": "markdown",
   "id": "d580689e",
   "metadata": {},
   "source": [
    "# Load basic libraries"
   ]
  },
  {
   "cell_type": "code",
   "execution_count": 1,
   "id": "5a531d00",
   "metadata": {},
   "outputs": [],
   "source": [
    "import pandas as pd\n",
    "import numpy as np\n",
    "import matplotlib.pyplot as plt\n",
    "import seaborn as sns\n",
    "import plotly.express as px\n",
    "import missingno as ms"
   ]
  },
  {
   "cell_type": "code",
   "execution_count": 2,
   "id": "1f686138",
   "metadata": {},
   "outputs": [],
   "source": [
    "#import warnings\n",
    "#warnings.filterwarnings('ignore')"
   ]
  },
  {
   "cell_type": "raw",
   "id": "df1d05c8",
   "metadata": {},
   "source": [
    "Details of the Dataset\n",
    "The dataset contains a mix of categorical and numeric type data.\n",
    "\n",
    "Categorical Attributes\n",
    "\n",
    "workclass: Private, Self-emp-not-inc, Self-emp-inc, Federal-gov, Local-gov, State-gov, Without-pay, Never-worked.Individual work category\n",
    "\n",
    "education: Bachelors, Some-college, 11th, HS-grad, Prof-school, Assoc-acdm, Assoc-voc, 9th, 7th-8th, 12th, Masters, 1st-4th, 10th, Doctorate, 5th-6th, Preschool.\n",
    "Individual’s highest education degree\n",
    "\n",
    "marital-status: Married-civ-spouse, Divorced, Never-married, Separated, Widowed, Married-spouse-absent, Married-AF-spouse.\n",
    "Individual marital status\n",
    "\n",
    "occupation: Tech-support, Craft-repair, Other-service, Sales, Exec-managerial, Prof-specialty, Handlers-cleaners, Machine-op-inspect, Adm-clerical, Farming-fishing, Transport-moving, Priv-house-serv, Protective-serv, Armed-Forces.Individual’s occupation\n",
    "\n",
    "relationship: Wife, Own-child, Husband, Not-in-family, Other-relative, Unmarried.Individual’s relation in a family\n",
    "\n",
    "race: White, Asian-Pac-Islander, Amer-Indian-Eskimo, Other, Black.Race of Individual\n",
    "\n",
    "sex: Female, Male.\n",
    "\n",
    "native-country: United-States, Cambodia, England, Puerto-Rico, Canada, Germany, Outlying-US(Guam-USVI-etc), India, Japan, Greece, South, China, Cuba, Iran, Honduras, Philippines, Italy, Poland, Jamaica, Vietnam, Mexico, Portugal, Ireland, France, Dominican-Republic, Laos, Ecuador, Taiwan, Haiti, Columbia, Hungary, Guatemala, Nicaragua, Scotland, Thailand, Yugoslavia, El-Salvador, Trinidad Tobago, Peru, Hong, Holland-Netherlands.\n",
    "Individual’s native country\n",
    "Continuous Attributes\n",
    "\n",
    "age: continuous.Age of an individual\n",
    "\n",
    "fnlwgt: final weight, continuous.The weights on the CPS files are controlled to independent estimates of the civilian noninstitutional population of the US. These are prepared monthly for us by Population Division here at the Census Bureau.\n",
    "\n",
    "capital-gain: continuous.\n",
    "\n",
    "capital-loss: continuous.\n",
    "\n",
    "hours-per-week: continuous.Individual’s working hour per week"
   ]
  },
  {
   "cell_type": "markdown",
   "id": "e39cc5b1",
   "metadata": {},
   "source": [
    "# reading final training & final testing data"
   ]
  },
  {
   "cell_type": "code",
   "execution_count": 3,
   "id": "6b0c0d8b",
   "metadata": {},
   "outputs": [
    {
     "data": {
      "text/html": [
       "<div>\n",
       "<style scoped>\n",
       "    .dataframe tbody tr th:only-of-type {\n",
       "        vertical-align: middle;\n",
       "    }\n",
       "\n",
       "    .dataframe tbody tr th {\n",
       "        vertical-align: top;\n",
       "    }\n",
       "\n",
       "    .dataframe thead th {\n",
       "        text-align: right;\n",
       "    }\n",
       "</style>\n",
       "<table border=\"1\" class=\"dataframe\">\n",
       "  <thead>\n",
       "    <tr style=\"text-align: right;\">\n",
       "      <th></th>\n",
       "      <th>Unnamed: 0</th>\n",
       "      <th>age</th>\n",
       "      <th>workclass</th>\n",
       "      <th>fnlwgt</th>\n",
       "      <th>education</th>\n",
       "      <th>education-num</th>\n",
       "      <th>marital-status</th>\n",
       "      <th>occupation</th>\n",
       "      <th>relationship</th>\n",
       "      <th>race</th>\n",
       "      <th>sex</th>\n",
       "      <th>hours-per-week</th>\n",
       "      <th>country</th>\n",
       "      <th>salary</th>\n",
       "    </tr>\n",
       "  </thead>\n",
       "  <tbody>\n",
       "    <tr>\n",
       "      <th>0</th>\n",
       "      <td>28097</td>\n",
       "      <td>27.0</td>\n",
       "      <td>0</td>\n",
       "      <td>302422.0</td>\n",
       "      <td>2</td>\n",
       "      <td>9.0</td>\n",
       "      <td>1</td>\n",
       "      <td>0</td>\n",
       "      <td>1</td>\n",
       "      <td>4</td>\n",
       "      <td>1</td>\n",
       "      <td>40</td>\n",
       "      <td>1</td>\n",
       "      <td>0</td>\n",
       "    </tr>\n",
       "    <tr>\n",
       "      <th>1</th>\n",
       "      <td>608</td>\n",
       "      <td>36.0</td>\n",
       "      <td>1</td>\n",
       "      <td>339772.0</td>\n",
       "      <td>2</td>\n",
       "      <td>9.0</td>\n",
       "      <td>2</td>\n",
       "      <td>3</td>\n",
       "      <td>1</td>\n",
       "      <td>2</td>\n",
       "      <td>1</td>\n",
       "      <td>40</td>\n",
       "      <td>1</td>\n",
       "      <td>0</td>\n",
       "    </tr>\n",
       "    <tr>\n",
       "      <th>2</th>\n",
       "      <td>12004</td>\n",
       "      <td>26.0</td>\n",
       "      <td>0</td>\n",
       "      <td>132749.0</td>\n",
       "      <td>5</td>\n",
       "      <td>13.0</td>\n",
       "      <td>1</td>\n",
       "      <td>9</td>\n",
       "      <td>1</td>\n",
       "      <td>4</td>\n",
       "      <td>0</td>\n",
       "      <td>80</td>\n",
       "      <td>1</td>\n",
       "      <td>0</td>\n",
       "    </tr>\n",
       "    <tr>\n",
       "      <th>3</th>\n",
       "      <td>29219</td>\n",
       "      <td>32.0</td>\n",
       "      <td>0</td>\n",
       "      <td>206541.0</td>\n",
       "      <td>3</td>\n",
       "      <td>11.0</td>\n",
       "      <td>0</td>\n",
       "      <td>12</td>\n",
       "      <td>0</td>\n",
       "      <td>4</td>\n",
       "      <td>1</td>\n",
       "      <td>45</td>\n",
       "      <td>1</td>\n",
       "      <td>1</td>\n",
       "    </tr>\n",
       "    <tr>\n",
       "      <th>4</th>\n",
       "      <td>14558</td>\n",
       "      <td>39.0</td>\n",
       "      <td>0</td>\n",
       "      <td>101073.0</td>\n",
       "      <td>3</td>\n",
       "      <td>12.0</td>\n",
       "      <td>0</td>\n",
       "      <td>11</td>\n",
       "      <td>0</td>\n",
       "      <td>4</td>\n",
       "      <td>1</td>\n",
       "      <td>24</td>\n",
       "      <td>1</td>\n",
       "      <td>0</td>\n",
       "    </tr>\n",
       "  </tbody>\n",
       "</table>\n",
       "</div>"
      ],
      "text/plain": [
       "   Unnamed: 0   age  workclass    fnlwgt  education  education-num  \\\n",
       "0       28097  27.0          0  302422.0          2            9.0   \n",
       "1         608  36.0          1  339772.0          2            9.0   \n",
       "2       12004  26.0          0  132749.0          5           13.0   \n",
       "3       29219  32.0          0  206541.0          3           11.0   \n",
       "4       14558  39.0          0  101073.0          3           12.0   \n",
       "\n",
       "   marital-status  occupation  relationship  race  sex  hours-per-week  \\\n",
       "0               1           0             1     4    1              40   \n",
       "1               2           3             1     2    1              40   \n",
       "2               1           9             1     4    0              80   \n",
       "3               0          12             0     4    1              45   \n",
       "4               0          11             0     4    1              24   \n",
       "\n",
       "   country  salary  \n",
       "0        1       0  \n",
       "1        1       0  \n",
       "2        1       0  \n",
       "3        1       1  \n",
       "4        1       0  "
      ]
     },
     "execution_count": 3,
     "metadata": {},
     "output_type": "execute_result"
    }
   ],
   "source": [
    "df_train=pd.read_csv(r'C:\\Users\\ABHI\\INEURON\\PROJECTS\\ADULT CENSUS PREDICTION\\proj_1_adult_census_prediction\\data\\processed\\final_training_data.csv')\n",
    "df_train.head(5)"
   ]
  },
  {
   "cell_type": "code",
   "execution_count": 5,
   "id": "975cd9af",
   "metadata": {},
   "outputs": [
    {
     "data": {
      "text/plain": [
       "Index(['Unnamed: 0', 'age', 'workclass', 'fnlwgt', 'education',\n",
       "       'education-num', 'marital-status', 'occupation', 'relationship', 'race',\n",
       "       'sex', 'hours-per-week', 'country', 'salary'],\n",
       "      dtype='object')"
      ]
     },
     "execution_count": 5,
     "metadata": {},
     "output_type": "execute_result"
    }
   ],
   "source": [
    "df_train.columns"
   ]
  },
  {
   "cell_type": "code",
   "execution_count": 7,
   "id": "0e2e0d5e",
   "metadata": {},
   "outputs": [
    {
     "data": {
      "text/html": [
       "<div>\n",
       "<style scoped>\n",
       "    .dataframe tbody tr th:only-of-type {\n",
       "        vertical-align: middle;\n",
       "    }\n",
       "\n",
       "    .dataframe tbody tr th {\n",
       "        vertical-align: top;\n",
       "    }\n",
       "\n",
       "    .dataframe thead th {\n",
       "        text-align: right;\n",
       "    }\n",
       "</style>\n",
       "<table border=\"1\" class=\"dataframe\">\n",
       "  <thead>\n",
       "    <tr style=\"text-align: right;\">\n",
       "      <th></th>\n",
       "      <th>Unnamed: 0</th>\n",
       "      <th>age</th>\n",
       "      <th>workclass</th>\n",
       "      <th>fnlwgt</th>\n",
       "      <th>education</th>\n",
       "      <th>education-num</th>\n",
       "      <th>marital-status</th>\n",
       "      <th>occupation</th>\n",
       "      <th>relationship</th>\n",
       "      <th>race</th>\n",
       "      <th>sex</th>\n",
       "      <th>hours-per-week</th>\n",
       "      <th>country</th>\n",
       "      <th>salary</th>\n",
       "    </tr>\n",
       "  </thead>\n",
       "  <tbody>\n",
       "    <tr>\n",
       "      <th>0</th>\n",
       "      <td>14402</td>\n",
       "      <td>36.000000</td>\n",
       "      <td>1</td>\n",
       "      <td>192337.000000</td>\n",
       "      <td>2</td>\n",
       "      <td>9.000000</td>\n",
       "      <td>1</td>\n",
       "      <td>7</td>\n",
       "      <td>1</td>\n",
       "      <td>4</td>\n",
       "      <td>1</td>\n",
       "      <td>40</td>\n",
       "      <td>1</td>\n",
       "      <td>0</td>\n",
       "    </tr>\n",
       "    <tr>\n",
       "      <th>1</th>\n",
       "      <td>43392</td>\n",
       "      <td>34.350720</td>\n",
       "      <td>0</td>\n",
       "      <td>168988.091277</td>\n",
       "      <td>1</td>\n",
       "      <td>13.831160</td>\n",
       "      <td>1</td>\n",
       "      <td>2</td>\n",
       "      <td>3</td>\n",
       "      <td>4</td>\n",
       "      <td>0</td>\n",
       "      <td>48</td>\n",
       "      <td>1</td>\n",
       "      <td>1</td>\n",
       "    </tr>\n",
       "    <tr>\n",
       "      <th>2</th>\n",
       "      <td>21583</td>\n",
       "      <td>51.000000</td>\n",
       "      <td>0</td>\n",
       "      <td>59590.000000</td>\n",
       "      <td>2</td>\n",
       "      <td>9.000000</td>\n",
       "      <td>0</td>\n",
       "      <td>0</td>\n",
       "      <td>5</td>\n",
       "      <td>4</td>\n",
       "      <td>0</td>\n",
       "      <td>20</td>\n",
       "      <td>1</td>\n",
       "      <td>0</td>\n",
       "    </tr>\n",
       "    <tr>\n",
       "      <th>3</th>\n",
       "      <td>34412</td>\n",
       "      <td>51.081192</td>\n",
       "      <td>0</td>\n",
       "      <td>152801.891060</td>\n",
       "      <td>3</td>\n",
       "      <td>10.837616</td>\n",
       "      <td>0</td>\n",
       "      <td>10</td>\n",
       "      <td>0</td>\n",
       "      <td>4</td>\n",
       "      <td>1</td>\n",
       "      <td>46</td>\n",
       "      <td>1</td>\n",
       "      <td>1</td>\n",
       "    </tr>\n",
       "    <tr>\n",
       "      <th>4</th>\n",
       "      <td>26725</td>\n",
       "      <td>23.000000</td>\n",
       "      <td>0</td>\n",
       "      <td>210474.000000</td>\n",
       "      <td>3</td>\n",
       "      <td>10.000000</td>\n",
       "      <td>1</td>\n",
       "      <td>7</td>\n",
       "      <td>3</td>\n",
       "      <td>4</td>\n",
       "      <td>0</td>\n",
       "      <td>20</td>\n",
       "      <td>1</td>\n",
       "      <td>0</td>\n",
       "    </tr>\n",
       "  </tbody>\n",
       "</table>\n",
       "</div>"
      ],
      "text/plain": [
       "   Unnamed: 0        age  workclass         fnlwgt  education  education-num  \\\n",
       "0       14402  36.000000          1  192337.000000          2       9.000000   \n",
       "1       43392  34.350720          0  168988.091277          1      13.831160   \n",
       "2       21583  51.000000          0   59590.000000          2       9.000000   \n",
       "3       34412  51.081192          0  152801.891060          3      10.837616   \n",
       "4       26725  23.000000          0  210474.000000          3      10.000000   \n",
       "\n",
       "   marital-status  occupation  relationship  race  sex  hours-per-week  \\\n",
       "0               1           7             1     4    1              40   \n",
       "1               1           2             3     4    0              48   \n",
       "2               0           0             5     4    0              20   \n",
       "3               0          10             0     4    1              46   \n",
       "4               1           7             3     4    0              20   \n",
       "\n",
       "   country  salary  \n",
       "0        1       0  \n",
       "1        1       1  \n",
       "2        1       0  \n",
       "3        1       1  \n",
       "4        1       0  "
      ]
     },
     "execution_count": 7,
     "metadata": {},
     "output_type": "execute_result"
    }
   ],
   "source": [
    "df_test=pd.read_csv(r'C:\\Users\\ABHI\\INEURON\\PROJECTS\\ADULT CENSUS PREDICTION\\proj_1_adult_census_prediction\\data\\processed\\final_testing_data.csv')\n",
    "df_test.head(5)"
   ]
  },
  {
   "cell_type": "code",
   "execution_count": 6,
   "id": "9aca66fd",
   "metadata": {},
   "outputs": [
    {
     "data": {
      "text/html": [
       "<div>\n",
       "<style scoped>\n",
       "    .dataframe tbody tr th:only-of-type {\n",
       "        vertical-align: middle;\n",
       "    }\n",
       "\n",
       "    .dataframe tbody tr th {\n",
       "        vertical-align: top;\n",
       "    }\n",
       "\n",
       "    .dataframe thead th {\n",
       "        text-align: right;\n",
       "    }\n",
       "</style>\n",
       "<table border=\"1\" class=\"dataframe\">\n",
       "  <thead>\n",
       "    <tr style=\"text-align: right;\">\n",
       "      <th></th>\n",
       "      <th>age</th>\n",
       "      <th>workclass</th>\n",
       "      <th>fnlwgt</th>\n",
       "      <th>education</th>\n",
       "      <th>education-num</th>\n",
       "      <th>marital-status</th>\n",
       "      <th>occupation</th>\n",
       "      <th>relationship</th>\n",
       "      <th>race</th>\n",
       "      <th>sex</th>\n",
       "      <th>hours-per-week</th>\n",
       "      <th>country</th>\n",
       "      <th>salary</th>\n",
       "    </tr>\n",
       "  </thead>\n",
       "  <tbody>\n",
       "    <tr>\n",
       "      <th>0</th>\n",
       "      <td>27.0</td>\n",
       "      <td>0</td>\n",
       "      <td>302422.0</td>\n",
       "      <td>2</td>\n",
       "      <td>9.0</td>\n",
       "      <td>1</td>\n",
       "      <td>0</td>\n",
       "      <td>1</td>\n",
       "      <td>4</td>\n",
       "      <td>1</td>\n",
       "      <td>40</td>\n",
       "      <td>1</td>\n",
       "      <td>0</td>\n",
       "    </tr>\n",
       "    <tr>\n",
       "      <th>1</th>\n",
       "      <td>36.0</td>\n",
       "      <td>1</td>\n",
       "      <td>339772.0</td>\n",
       "      <td>2</td>\n",
       "      <td>9.0</td>\n",
       "      <td>2</td>\n",
       "      <td>3</td>\n",
       "      <td>1</td>\n",
       "      <td>2</td>\n",
       "      <td>1</td>\n",
       "      <td>40</td>\n",
       "      <td>1</td>\n",
       "      <td>0</td>\n",
       "    </tr>\n",
       "    <tr>\n",
       "      <th>2</th>\n",
       "      <td>26.0</td>\n",
       "      <td>0</td>\n",
       "      <td>132749.0</td>\n",
       "      <td>5</td>\n",
       "      <td>13.0</td>\n",
       "      <td>1</td>\n",
       "      <td>9</td>\n",
       "      <td>1</td>\n",
       "      <td>4</td>\n",
       "      <td>0</td>\n",
       "      <td>80</td>\n",
       "      <td>1</td>\n",
       "      <td>0</td>\n",
       "    </tr>\n",
       "    <tr>\n",
       "      <th>3</th>\n",
       "      <td>32.0</td>\n",
       "      <td>0</td>\n",
       "      <td>206541.0</td>\n",
       "      <td>3</td>\n",
       "      <td>11.0</td>\n",
       "      <td>0</td>\n",
       "      <td>12</td>\n",
       "      <td>0</td>\n",
       "      <td>4</td>\n",
       "      <td>1</td>\n",
       "      <td>45</td>\n",
       "      <td>1</td>\n",
       "      <td>1</td>\n",
       "    </tr>\n",
       "    <tr>\n",
       "      <th>4</th>\n",
       "      <td>39.0</td>\n",
       "      <td>0</td>\n",
       "      <td>101073.0</td>\n",
       "      <td>3</td>\n",
       "      <td>12.0</td>\n",
       "      <td>0</td>\n",
       "      <td>11</td>\n",
       "      <td>0</td>\n",
       "      <td>4</td>\n",
       "      <td>1</td>\n",
       "      <td>24</td>\n",
       "      <td>1</td>\n",
       "      <td>0</td>\n",
       "    </tr>\n",
       "  </tbody>\n",
       "</table>\n",
       "</div>"
      ],
      "text/plain": [
       "    age  workclass    fnlwgt  education  education-num  marital-status  \\\n",
       "0  27.0          0  302422.0          2            9.0               1   \n",
       "1  36.0          1  339772.0          2            9.0               2   \n",
       "2  26.0          0  132749.0          5           13.0               1   \n",
       "3  32.0          0  206541.0          3           11.0               0   \n",
       "4  39.0          0  101073.0          3           12.0               0   \n",
       "\n",
       "   occupation  relationship  race  sex  hours-per-week  country  salary  \n",
       "0           0             1     4    1              40        1       0  \n",
       "1           3             1     2    1              40        1       0  \n",
       "2           9             1     4    0              80        1       0  \n",
       "3          12             0     4    1              45        1       1  \n",
       "4          11             0     4    1              24        1       0  "
      ]
     },
     "execution_count": 6,
     "metadata": {},
     "output_type": "execute_result"
    }
   ],
   "source": [
    "df_train=df_train.drop('Unnamed: 0',axis=1)\n",
    "df_train.head(5)"
   ]
  },
  {
   "cell_type": "code",
   "execution_count": 8,
   "id": "7514206b",
   "metadata": {},
   "outputs": [
    {
     "data": {
      "text/html": [
       "<div>\n",
       "<style scoped>\n",
       "    .dataframe tbody tr th:only-of-type {\n",
       "        vertical-align: middle;\n",
       "    }\n",
       "\n",
       "    .dataframe tbody tr th {\n",
       "        vertical-align: top;\n",
       "    }\n",
       "\n",
       "    .dataframe thead th {\n",
       "        text-align: right;\n",
       "    }\n",
       "</style>\n",
       "<table border=\"1\" class=\"dataframe\">\n",
       "  <thead>\n",
       "    <tr style=\"text-align: right;\">\n",
       "      <th></th>\n",
       "      <th>age</th>\n",
       "      <th>workclass</th>\n",
       "      <th>fnlwgt</th>\n",
       "      <th>education</th>\n",
       "      <th>education-num</th>\n",
       "      <th>marital-status</th>\n",
       "      <th>occupation</th>\n",
       "      <th>relationship</th>\n",
       "      <th>race</th>\n",
       "      <th>sex</th>\n",
       "      <th>hours-per-week</th>\n",
       "      <th>country</th>\n",
       "      <th>salary</th>\n",
       "    </tr>\n",
       "  </thead>\n",
       "  <tbody>\n",
       "    <tr>\n",
       "      <th>0</th>\n",
       "      <td>36.000000</td>\n",
       "      <td>1</td>\n",
       "      <td>192337.000000</td>\n",
       "      <td>2</td>\n",
       "      <td>9.000000</td>\n",
       "      <td>1</td>\n",
       "      <td>7</td>\n",
       "      <td>1</td>\n",
       "      <td>4</td>\n",
       "      <td>1</td>\n",
       "      <td>40</td>\n",
       "      <td>1</td>\n",
       "      <td>0</td>\n",
       "    </tr>\n",
       "    <tr>\n",
       "      <th>1</th>\n",
       "      <td>34.350720</td>\n",
       "      <td>0</td>\n",
       "      <td>168988.091277</td>\n",
       "      <td>1</td>\n",
       "      <td>13.831160</td>\n",
       "      <td>1</td>\n",
       "      <td>2</td>\n",
       "      <td>3</td>\n",
       "      <td>4</td>\n",
       "      <td>0</td>\n",
       "      <td>48</td>\n",
       "      <td>1</td>\n",
       "      <td>1</td>\n",
       "    </tr>\n",
       "    <tr>\n",
       "      <th>2</th>\n",
       "      <td>51.000000</td>\n",
       "      <td>0</td>\n",
       "      <td>59590.000000</td>\n",
       "      <td>2</td>\n",
       "      <td>9.000000</td>\n",
       "      <td>0</td>\n",
       "      <td>0</td>\n",
       "      <td>5</td>\n",
       "      <td>4</td>\n",
       "      <td>0</td>\n",
       "      <td>20</td>\n",
       "      <td>1</td>\n",
       "      <td>0</td>\n",
       "    </tr>\n",
       "    <tr>\n",
       "      <th>3</th>\n",
       "      <td>51.081192</td>\n",
       "      <td>0</td>\n",
       "      <td>152801.891060</td>\n",
       "      <td>3</td>\n",
       "      <td>10.837616</td>\n",
       "      <td>0</td>\n",
       "      <td>10</td>\n",
       "      <td>0</td>\n",
       "      <td>4</td>\n",
       "      <td>1</td>\n",
       "      <td>46</td>\n",
       "      <td>1</td>\n",
       "      <td>1</td>\n",
       "    </tr>\n",
       "    <tr>\n",
       "      <th>4</th>\n",
       "      <td>23.000000</td>\n",
       "      <td>0</td>\n",
       "      <td>210474.000000</td>\n",
       "      <td>3</td>\n",
       "      <td>10.000000</td>\n",
       "      <td>1</td>\n",
       "      <td>7</td>\n",
       "      <td>3</td>\n",
       "      <td>4</td>\n",
       "      <td>0</td>\n",
       "      <td>20</td>\n",
       "      <td>1</td>\n",
       "      <td>0</td>\n",
       "    </tr>\n",
       "  </tbody>\n",
       "</table>\n",
       "</div>"
      ],
      "text/plain": [
       "         age  workclass         fnlwgt  education  education-num  \\\n",
       "0  36.000000          1  192337.000000          2       9.000000   \n",
       "1  34.350720          0  168988.091277          1      13.831160   \n",
       "2  51.000000          0   59590.000000          2       9.000000   \n",
       "3  51.081192          0  152801.891060          3      10.837616   \n",
       "4  23.000000          0  210474.000000          3      10.000000   \n",
       "\n",
       "   marital-status  occupation  relationship  race  sex  hours-per-week  \\\n",
       "0               1           7             1     4    1              40   \n",
       "1               1           2             3     4    0              48   \n",
       "2               0           0             5     4    0              20   \n",
       "3               0          10             0     4    1              46   \n",
       "4               1           7             3     4    0              20   \n",
       "\n",
       "   country  salary  \n",
       "0        1       0  \n",
       "1        1       1  \n",
       "2        1       0  \n",
       "3        1       1  \n",
       "4        1       0  "
      ]
     },
     "execution_count": 8,
     "metadata": {},
     "output_type": "execute_result"
    }
   ],
   "source": [
    "df_test=df_test.drop('Unnamed: 0',axis=1)\n",
    "df_test.head(5)"
   ]
  },
  {
   "cell_type": "code",
   "execution_count": 10,
   "id": "dc106832",
   "metadata": {},
   "outputs": [
    {
     "name": "stdout",
     "output_type": "stream",
     "text": [
      "(39520, 13)\n",
      "(9880, 13)\n"
     ]
    }
   ],
   "source": [
    "print(df_train.shape)\n",
    "print(df_test.shape)"
   ]
  },
  {
   "cell_type": "code",
   "execution_count": 11,
   "id": "17ac22de",
   "metadata": {},
   "outputs": [
    {
     "data": {
      "text/plain": [
       "0    50.050607\n",
       "1    49.949393\n",
       "Name: salary, dtype: float64"
      ]
     },
     "execution_count": 11,
     "metadata": {},
     "output_type": "execute_result"
    }
   ],
   "source": [
    "df_train['salary'].value_counts(normalize = True)*100"
   ]
  },
  {
   "cell_type": "code",
   "execution_count": 13,
   "id": "8d451ad9",
   "metadata": {},
   "outputs": [
    {
     "name": "stderr",
     "output_type": "stream",
     "text": [
      "C:\\ProgramData\\Anaconda3\\lib\\site-packages\\seaborn\\_decorators.py:36: FutureWarning: Pass the following variable as a keyword arg: x. From version 0.12, the only valid positional argument will be `data`, and passing other arguments without an explicit keyword will result in an error or misinterpretation.\n",
      "  warnings.warn(\n"
     ]
    },
    {
     "data": {
      "image/png": "[encoded data removed]",
      "text/plain": [
       "<Figure size 640x480 with 1 Axes>"
      ]
     },
     "metadata": {},
     "output_type": "display_data"
    }
   ],
   "source": [
    "ax=sns.countplot(df_train['salary'])\n",
    "plt.xlabel(\"salary\", fontsize= 12)\n",
    "plt.ylabel(\"No. of People\", fontsize= 12)\n",
    "for p in ax.patches:\n",
    "    ax.annotate((p.get_height()), (p.get_x()+0.12, p.get_height()+100))"
   ]
  },
  {
   "cell_type": "code",
   "execution_count": 12,
   "id": "1f922d02",
   "metadata": {},
   "outputs": [
    {
     "data": {
      "text/plain": [
       "1    50.202429\n",
       "0    49.797571\n",
       "Name: salary, dtype: float64"
      ]
     },
     "execution_count": 12,
     "metadata": {},
     "output_type": "execute_result"
    }
   ],
   "source": [
    "df_test['salary'].value_counts(normalize = True)*100"
   ]
  },
  {
   "cell_type": "code",
   "execution_count": 14,
   "id": "8893d2b3",
   "metadata": {},
   "outputs": [
    {
     "name": "stderr",
     "output_type": "stream",
     "text": [
      "C:\\ProgramData\\Anaconda3\\lib\\site-packages\\seaborn\\_decorators.py:36: FutureWarning: Pass the following variable as a keyword arg: x. From version 0.12, the only valid positional argument will be `data`, and passing other arguments without an explicit keyword will result in an error or misinterpretation.\n",
      "  warnings.warn(\n"
     ]
    },
    {
     "data": {
      "image/png": "[encoded data removed]",
      "text/plain": [
       "<Figure size 640x480 with 1 Axes>"
      ]
     },
     "metadata": {},
     "output_type": "display_data"
    }
   ],
   "source": [
    "ax=sns.countplot(df_test['salary'])\n",
    "plt.xlabel(\"salary\", fontsize= 12)\n",
    "plt.ylabel(\"No. of People\", fontsize= 12)\n",
    "for p in ax.patches:\n",
    "    ax.annotate((p.get_height()), (p.get_x()+0.12, p.get_height()+100))"
   ]
  },
  {
   "cell_type": "code",
   "execution_count": 15,
   "id": "4237e042",
   "metadata": {},
   "outputs": [],
   "source": [
    "x_train=df_train.drop(\"salary\",axis=1)\n",
    "y_train=df_train['salary']\n",
    "x_test=df_test.drop(\"salary\",axis=1)\n",
    "y_test=df_test['salary']"
   ]
  },
  {
   "cell_type": "code",
   "execution_count": null,
   "id": "7ec7cb47",
   "metadata": {},
   "outputs": [],
   "source": []
  },
  {
   "cell_type": "markdown",
   "id": "aa4986f1",
   "metadata": {},
   "source": [
    "# Hyperparameter tuning for finla model selection"
   ]
  },
  {
   "cell_type": "code",
   "execution_count": 36,
   "id": "9771d55a",
   "metadata": {},
   "outputs": [],
   "source": [
    "from sklearn.ensemble import RandomForestClassifier\n",
    "from sklearn.ensemble import GradientBoostingClassifier\n",
    "from xgboost import XGBClassifier\n",
    "from catboost import CatBoostClassifier"
   ]
  },
  {
   "cell_type": "code",
   "execution_count": 17,
   "id": "ca668348",
   "metadata": {},
   "outputs": [],
   "source": [
    "#importing all metrics\n",
    "from sklearn.metrics import confusion_matrix,roc_auc_score,classification_report\n",
    "from sklearn.metrics import auc,roc_curve"
   ]
  },
  {
   "cell_type": "markdown",
   "id": "dd9198e5",
   "metadata": {},
   "source": [
    "# Using Randome Forest classifier Hyperparameter Tunning"
   ]
  },
  {
   "cell_type": "code",
   "execution_count": 18,
   "id": "e27648f2",
   "metadata": {},
   "outputs": [
    {
     "data": {
      "text/plain": [
       "RandomForestClassifier()"
      ]
     },
     "execution_count": 18,
     "metadata": {},
     "output_type": "execute_result"
    }
   ],
   "source": [
    "#basic model\n",
    "rf=RandomForestClassifier()\n",
    "rf.fit(x_train,y_train)"
   ]
  },
  {
   "cell_type": "code",
   "execution_count": 19,
   "id": "638298b9",
   "metadata": {},
   "outputs": [],
   "source": [
    "y_pred_rf=rf.predict(x_test)"
   ]
  },
  {
   "cell_type": "code",
   "execution_count": 20,
   "id": "9ae09ed3",
   "metadata": {},
   "outputs": [
    {
     "data": {
      "text/plain": [
       "array([0, 1, 0, ..., 0, 0, 1], dtype=int64)"
      ]
     },
     "execution_count": 20,
     "metadata": {},
     "output_type": "execute_result"
    }
   ],
   "source": [
    "y_pred_rf"
   ]
  },
  {
   "cell_type": "code",
   "execution_count": 21,
   "id": "e088908b",
   "metadata": {},
   "outputs": [
    {
     "name": "stdout",
     "output_type": "stream",
     "text": [
      "Training Accuracy : 0.9999493927125506\n",
      "Testing Accuracy : 0.874089068825911\n",
      "ROC AUC Score : 0.8740933281144173\n",
      "****************************************************************************************************\n",
      "[[4312  636]\n",
      " [ 608 4324]]\n",
      "****************************************************************************************************\n",
      "              precision    recall  f1-score   support\n",
      "\n",
      "           0       0.88      0.87      0.87      4948\n",
      "           1       0.87      0.88      0.87      4932\n",
      "\n",
      "    accuracy                           0.87      9880\n",
      "   macro avg       0.87      0.87      0.87      9880\n",
      "weighted avg       0.87      0.87      0.87      9880\n",
      "\n"
     ]
    }
   ],
   "source": [
    "# evaluating the RandomeForest model\n",
    "print(\"Training Accuracy :\", rf.score(x_train, y_train))\n",
    "print(\"Testing Accuracy :\", rf.score(x_test, y_test))\n",
    "print(\"ROC AUC Score :\", roc_auc_score(y_pred_rf,y_test))\n",
    "print('*'*100)\n",
    "print(confusion_matrix(y_pred_rf,y_test))\n",
    "print('*'*100)\n",
    "print(classification_report(y_pred_rf,y_test))"
   ]
  },
  {
   "cell_type": "markdown",
   "id": "0ddf60ff",
   "metadata": {},
   "source": [
    "# GridSearchCv()"
   ]
  },
  {
   "cell_type": "code",
   "execution_count": 24,
   "id": "ee2c4101",
   "metadata": {},
   "outputs": [],
   "source": [
    "from sklearn.model_selection import GridSearchCV"
   ]
  },
  {
   "cell_type": "code",
   "execution_count": 33,
   "id": "d978d74e",
   "metadata": {},
   "outputs": [
    {
     "name": "stdout",
     "output_type": "stream",
     "text": [
      "{'n_estimators': [80, 100, 120, 140], 'max_features': [0.6, 0.8, 1], 'max_depth': [5, 7, None], 'max_samples': [0.5, 0.75, 1.0], 'min_samples_split': [5, 8, 10], 'min_samples_leaf': [5, 8, 10]}\n"
     ]
    }
   ],
   "source": [
    "params={\"n_estimators\":[80,100,120,140],\n",
    "        \"max_features\":[0.6,0.8,1],\n",
    "        \"max_depth\":[5,7,None],\n",
    "        \"max_samples\":[0.5,0.75,1.0],\n",
    "        \"min_samples_split\":[5,8,10],\n",
    "        \"min_samples_leaf\":[5,8,10]\n",
    "        }\n",
    "print(params)"
   ]
  },
  {
   "cell_type": "code",
   "execution_count": 34,
   "id": "80d5804d",
   "metadata": {},
   "outputs": [],
   "source": [
    "rf_grid=GridSearchCV(estimator = rf,\n",
    "                    param_grid=params,\n",
    "                    cv=3,\n",
    "                    verbose=2,\n",
    "                    n_jobs=-1)"
   ]
  },
  {
   "cell_type": "code",
   "execution_count": 35,
   "id": "e0085297",
   "metadata": {},
   "outputs": [
    {
     "name": "stdout",
     "output_type": "stream",
     "text": [
      "Fitting 3 folds for each of 972 candidates, totalling 2916 fits\n"
     ]
    },
    {
     "ename": "KeyboardInterrupt",
     "evalue": "",
     "output_type": "error",
     "traceback": [
      "\u001b[1;31m---------------------------------------------------------------------------\u001b[0m",
      "\u001b[1;31mKeyboardInterrupt\u001b[0m                         Traceback (most recent call last)",
      "\u001b[1;32m~\\AppData\\Local\\Temp\\ipykernel_11128\\2566790981.py\u001b[0m in \u001b[0;36m<module>\u001b[1;34m\u001b[0m\n\u001b[1;32m----> 1\u001b[1;33m \u001b[0mrf_grid\u001b[0m\u001b[1;33m.\u001b[0m\u001b[0mfit\u001b[0m\u001b[1;33m(\u001b[0m\u001b[0mx_train\u001b[0m\u001b[1;33m,\u001b[0m\u001b[0my_train\u001b[0m\u001b[1;33m)\u001b[0m\u001b[1;33m\u001b[0m\u001b[1;33m\u001b[0m\u001b[0m\n\u001b[0m",
      "\u001b[1;32mC:\\ProgramData\\Anaconda3\\lib\\site-packages\\sklearn\\model_selection\\_search.py\u001b[0m in \u001b[0;36mfit\u001b[1;34m(self, X, y, groups, **fit_params)\u001b[0m\n\u001b[0;32m    889\u001b[0m                 \u001b[1;32mreturn\u001b[0m \u001b[0mresults\u001b[0m\u001b[1;33m\u001b[0m\u001b[1;33m\u001b[0m\u001b[0m\n\u001b[0;32m    890\u001b[0m \u001b[1;33m\u001b[0m\u001b[0m\n\u001b[1;32m--> 891\u001b[1;33m             \u001b[0mself\u001b[0m\u001b[1;33m.\u001b[0m\u001b[0m_run_search\u001b[0m\u001b[1;33m(\u001b[0m\u001b[0mevaluate_candidates\u001b[0m\u001b[1;33m)\u001b[0m\u001b[1;33m\u001b[0m\u001b[1;33m\u001b[0m\u001b[0m\n\u001b[0m\u001b[0;32m    892\u001b[0m \u001b[1;33m\u001b[0m\u001b[0m\n\u001b[0;32m    893\u001b[0m             \u001b[1;31m# multimetric is determined here because in the case of a callable\u001b[0m\u001b[1;33m\u001b[0m\u001b[1;33m\u001b[0m\u001b[0m\n",
      "\u001b[1;32mC:\\ProgramData\\Anaconda3\\lib\\site-packages\\sklearn\\model_selection\\_search.py\u001b[0m in \u001b[0;36m_run_search\u001b[1;34m(self, evaluate_candidates)\u001b[0m\n\u001b[0;32m   1390\u001b[0m     \u001b[1;32mdef\u001b[0m \u001b[0m_run_search\u001b[0m\u001b[1;33m(\u001b[0m\u001b[0mself\u001b[0m\u001b[1;33m,\u001b[0m \u001b[0mevaluate_candidates\u001b[0m\u001b[1;33m)\u001b[0m\u001b[1;33m:\u001b[0m\u001b[1;33m\u001b[0m\u001b[1;33m\u001b[0m\u001b[0m\n\u001b[0;32m   1391\u001b[0m         \u001b[1;34m\"\"\"Search all candidates in param_grid\"\"\"\u001b[0m\u001b[1;33m\u001b[0m\u001b[1;33m\u001b[0m\u001b[0m\n\u001b[1;32m-> 1392\u001b[1;33m         \u001b[0mevaluate_candidates\u001b[0m\u001b[1;33m(\u001b[0m\u001b[0mParameterGrid\u001b[0m\u001b[1;33m(\u001b[0m\u001b[0mself\u001b[0m\u001b[1;33m.\u001b[0m\u001b[0mparam_grid\u001b[0m\u001b[1;33m)\u001b[0m\u001b[1;33m)\u001b[0m\u001b[1;33m\u001b[0m\u001b[1;33m\u001b[0m\u001b[0m\n\u001b[0m\u001b[0;32m   1393\u001b[0m \u001b[1;33m\u001b[0m\u001b[0m\n\u001b[0;32m   1394\u001b[0m \u001b[1;33m\u001b[0m\u001b[0m\n",
      "\u001b[1;32mC:\\ProgramData\\Anaconda3\\lib\\site-packages\\sklearn\\model_selection\\_search.py\u001b[0m in \u001b[0;36mevaluate_candidates\u001b[1;34m(candidate_params, cv, more_results)\u001b[0m\n\u001b[0;32m    836\u001b[0m                     )\n\u001b[0;32m    837\u001b[0m \u001b[1;33m\u001b[0m\u001b[0m\n\u001b[1;32m--> 838\u001b[1;33m                 out = parallel(\n\u001b[0m\u001b[0;32m    839\u001b[0m                     delayed(_fit_and_score)(\n\u001b[0;32m    840\u001b[0m                         \u001b[0mclone\u001b[0m\u001b[1;33m(\u001b[0m\u001b[0mbase_estimator\u001b[0m\u001b[1;33m)\u001b[0m\u001b[1;33m,\u001b[0m\u001b[1;33m\u001b[0m\u001b[1;33m\u001b[0m\u001b[0m\n",
      "\u001b[1;32m~\\AppData\\Roaming\\Python\\Python39\\site-packages\\joblib\\parallel.py\u001b[0m in \u001b[0;36m__call__\u001b[1;34m(self, iterable)\u001b[0m\n\u001b[0;32m   1096\u001b[0m \u001b[1;33m\u001b[0m\u001b[0m\n\u001b[0;32m   1097\u001b[0m             \u001b[1;32mwith\u001b[0m \u001b[0mself\u001b[0m\u001b[1;33m.\u001b[0m\u001b[0m_backend\u001b[0m\u001b[1;33m.\u001b[0m\u001b[0mretrieval_context\u001b[0m\u001b[1;33m(\u001b[0m\u001b[1;33m)\u001b[0m\u001b[1;33m:\u001b[0m\u001b[1;33m\u001b[0m\u001b[1;33m\u001b[0m\u001b[0m\n\u001b[1;32m-> 1098\u001b[1;33m                 \u001b[0mself\u001b[0m\u001b[1;33m.\u001b[0m\u001b[0mretrieve\u001b[0m\u001b[1;33m(\u001b[0m\u001b[1;33m)\u001b[0m\u001b[1;33m\u001b[0m\u001b[1;33m\u001b[0m\u001b[0m\n\u001b[0m\u001b[0;32m   1099\u001b[0m             \u001b[1;31m# Make sure that we get a last message telling us we are done\u001b[0m\u001b[1;33m\u001b[0m\u001b[1;33m\u001b[0m\u001b[0m\n\u001b[0;32m   1100\u001b[0m             \u001b[0melapsed_time\u001b[0m \u001b[1;33m=\u001b[0m \u001b[0mtime\u001b[0m\u001b[1;33m.\u001b[0m\u001b[0mtime\u001b[0m\u001b[1;33m(\u001b[0m\u001b[1;33m)\u001b[0m \u001b[1;33m-\u001b[0m \u001b[0mself\u001b[0m\u001b[1;33m.\u001b[0m\u001b[0m_start_time\u001b[0m\u001b[1;33m\u001b[0m\u001b[1;33m\u001b[0m\u001b[0m\n",
      "\u001b[1;32m~\\AppData\\Roaming\\Python\\Python39\\site-packages\\joblib\\parallel.py\u001b[0m in \u001b[0;36mretrieve\u001b[1;34m(self)\u001b[0m\n\u001b[0;32m    973\u001b[0m             \u001b[1;32mtry\u001b[0m\u001b[1;33m:\u001b[0m\u001b[1;33m\u001b[0m\u001b[1;33m\u001b[0m\u001b[0m\n\u001b[0;32m    974\u001b[0m                 \u001b[1;32mif\u001b[0m \u001b[0mgetattr\u001b[0m\u001b[1;33m(\u001b[0m\u001b[0mself\u001b[0m\u001b[1;33m.\u001b[0m\u001b[0m_backend\u001b[0m\u001b[1;33m,\u001b[0m \u001b[1;34m'supports_timeout'\u001b[0m\u001b[1;33m,\u001b[0m \u001b[1;32mFalse\u001b[0m\u001b[1;33m)\u001b[0m\u001b[1;33m:\u001b[0m\u001b[1;33m\u001b[0m\u001b[1;33m\u001b[0m\u001b[0m\n\u001b[1;32m--> 975\u001b[1;33m                     \u001b[0mself\u001b[0m\u001b[1;33m.\u001b[0m\u001b[0m_output\u001b[0m\u001b[1;33m.\u001b[0m\u001b[0mextend\u001b[0m\u001b[1;33m(\u001b[0m\u001b[0mjob\u001b[0m\u001b[1;33m.\u001b[0m\u001b[0mget\u001b[0m\u001b[1;33m(\u001b[0m\u001b[0mtimeout\u001b[0m\u001b[1;33m=\u001b[0m\u001b[0mself\u001b[0m\u001b[1;33m.\u001b[0m\u001b[0mtimeout\u001b[0m\u001b[1;33m)\u001b[0m\u001b[1;33m)\u001b[0m\u001b[1;33m\u001b[0m\u001b[1;33m\u001b[0m\u001b[0m\n\u001b[0m\u001b[0;32m    976\u001b[0m                 \u001b[1;32melse\u001b[0m\u001b[1;33m:\u001b[0m\u001b[1;33m\u001b[0m\u001b[1;33m\u001b[0m\u001b[0m\n\u001b[0;32m    977\u001b[0m                     \u001b[0mself\u001b[0m\u001b[1;33m.\u001b[0m\u001b[0m_output\u001b[0m\u001b[1;33m.\u001b[0m\u001b[0mextend\u001b[0m\u001b[1;33m(\u001b[0m\u001b[0mjob\u001b[0m\u001b[1;33m.\u001b[0m\u001b[0mget\u001b[0m\u001b[1;33m(\u001b[0m\u001b[1;33m)\u001b[0m\u001b[1;33m)\u001b[0m\u001b[1;33m\u001b[0m\u001b[1;33m\u001b[0m\u001b[0m\n",
      "\u001b[1;32m~\\AppData\\Roaming\\Python\\Python39\\site-packages\\joblib\\_parallel_backends.py\u001b[0m in \u001b[0;36mwrap_future_result\u001b[1;34m(future, timeout)\u001b[0m\n\u001b[0;32m    565\u001b[0m         AsyncResults.get from multiprocessing.\"\"\"\n\u001b[0;32m    566\u001b[0m         \u001b[1;32mtry\u001b[0m\u001b[1;33m:\u001b[0m\u001b[1;33m\u001b[0m\u001b[1;33m\u001b[0m\u001b[0m\n\u001b[1;32m--> 567\u001b[1;33m             \u001b[1;32mreturn\u001b[0m \u001b[0mfuture\u001b[0m\u001b[1;33m.\u001b[0m\u001b[0mresult\u001b[0m\u001b[1;33m(\u001b[0m\u001b[0mtimeout\u001b[0m\u001b[1;33m=\u001b[0m\u001b[0mtimeout\u001b[0m\u001b[1;33m)\u001b[0m\u001b[1;33m\u001b[0m\u001b[1;33m\u001b[0m\u001b[0m\n\u001b[0m\u001b[0;32m    568\u001b[0m         \u001b[1;32mexcept\u001b[0m \u001b[0mCfTimeoutError\u001b[0m \u001b[1;32mas\u001b[0m \u001b[0me\u001b[0m\u001b[1;33m:\u001b[0m\u001b[1;33m\u001b[0m\u001b[1;33m\u001b[0m\u001b[0m\n\u001b[0;32m    569\u001b[0m             \u001b[1;32mraise\u001b[0m \u001b[0mTimeoutError\u001b[0m \u001b[1;32mfrom\u001b[0m \u001b[0me\u001b[0m\u001b[1;33m\u001b[0m\u001b[1;33m\u001b[0m\u001b[0m\n",
      "\u001b[1;32mC:\\ProgramData\\Anaconda3\\lib\\concurrent\\futures\\_base.py\u001b[0m in \u001b[0;36mresult\u001b[1;34m(self, timeout)\u001b[0m\n\u001b[0;32m    439\u001b[0m                     \u001b[1;32mreturn\u001b[0m \u001b[0mself\u001b[0m\u001b[1;33m.\u001b[0m\u001b[0m__get_result\u001b[0m\u001b[1;33m(\u001b[0m\u001b[1;33m)\u001b[0m\u001b[1;33m\u001b[0m\u001b[1;33m\u001b[0m\u001b[0m\n\u001b[0;32m    440\u001b[0m \u001b[1;33m\u001b[0m\u001b[0m\n\u001b[1;32m--> 441\u001b[1;33m                 \u001b[0mself\u001b[0m\u001b[1;33m.\u001b[0m\u001b[0m_condition\u001b[0m\u001b[1;33m.\u001b[0m\u001b[0mwait\u001b[0m\u001b[1;33m(\u001b[0m\u001b[0mtimeout\u001b[0m\u001b[1;33m)\u001b[0m\u001b[1;33m\u001b[0m\u001b[1;33m\u001b[0m\u001b[0m\n\u001b[0m\u001b[0;32m    442\u001b[0m \u001b[1;33m\u001b[0m\u001b[0m\n\u001b[0;32m    443\u001b[0m                 \u001b[1;32mif\u001b[0m \u001b[0mself\u001b[0m\u001b[1;33m.\u001b[0m\u001b[0m_state\u001b[0m \u001b[1;32min\u001b[0m \u001b[1;33m[\u001b[0m\u001b[0mCANCELLED\u001b[0m\u001b[1;33m,\u001b[0m \u001b[0mCANCELLED_AND_NOTIFIED\u001b[0m\u001b[1;33m]\u001b[0m\u001b[1;33m:\u001b[0m\u001b[1;33m\u001b[0m\u001b[1;33m\u001b[0m\u001b[0m\n",
      "\u001b[1;32mC:\\ProgramData\\Anaconda3\\lib\\threading.py\u001b[0m in \u001b[0;36mwait\u001b[1;34m(self, timeout)\u001b[0m\n\u001b[0;32m    310\u001b[0m         \u001b[1;32mtry\u001b[0m\u001b[1;33m:\u001b[0m    \u001b[1;31m# restore state no matter what (e.g., KeyboardInterrupt)\u001b[0m\u001b[1;33m\u001b[0m\u001b[1;33m\u001b[0m\u001b[0m\n\u001b[0;32m    311\u001b[0m             \u001b[1;32mif\u001b[0m \u001b[0mtimeout\u001b[0m \u001b[1;32mis\u001b[0m \u001b[1;32mNone\u001b[0m\u001b[1;33m:\u001b[0m\u001b[1;33m\u001b[0m\u001b[1;33m\u001b[0m\u001b[0m\n\u001b[1;32m--> 312\u001b[1;33m                 \u001b[0mwaiter\u001b[0m\u001b[1;33m.\u001b[0m\u001b[0macquire\u001b[0m\u001b[1;33m(\u001b[0m\u001b[1;33m)\u001b[0m\u001b[1;33m\u001b[0m\u001b[1;33m\u001b[0m\u001b[0m\n\u001b[0m\u001b[0;32m    313\u001b[0m                 \u001b[0mgotit\u001b[0m \u001b[1;33m=\u001b[0m \u001b[1;32mTrue\u001b[0m\u001b[1;33m\u001b[0m\u001b[1;33m\u001b[0m\u001b[0m\n\u001b[0;32m    314\u001b[0m             \u001b[1;32melse\u001b[0m\u001b[1;33m:\u001b[0m\u001b[1;33m\u001b[0m\u001b[1;33m\u001b[0m\u001b[0m\n",
      "\u001b[1;31mKeyboardInterrupt\u001b[0m: "
     ]
    }
   ],
   "source": [
    "rf_grid.fit(x_train,y_train)"
   ]
  },
  {
   "cell_type": "code",
   "execution_count": 267,
   "id": "1cfc0b0f",
   "metadata": {},
   "outputs": [
    {
     "ename": "AttributeError",
     "evalue": "'RandomForestClassifier' object has no attribute 'cv_results_'",
     "output_type": "error",
     "traceback": [
      "\u001b[1;31m---------------------------------------------------------------------------\u001b[0m",
      "\u001b[1;31mAttributeError\u001b[0m                            Traceback (most recent call last)",
      "\u001b[1;32m~\\AppData\\Local\\Temp\\ipykernel_2692\\1186180900.py\u001b[0m in \u001b[0;36m<module>\u001b[1;34m\u001b[0m\n\u001b[1;32m----> 1\u001b[1;33m \u001b[0mscore_rf\u001b[0m \u001b[1;33m=\u001b[0m \u001b[0mpd\u001b[0m\u001b[1;33m.\u001b[0m\u001b[0mDataFrame\u001b[0m\u001b[1;33m(\u001b[0m\u001b[0mrf\u001b[0m\u001b[1;33m.\u001b[0m\u001b[0mcv_results_\u001b[0m\u001b[1;33m)\u001b[0m\u001b[1;33m\u001b[0m\u001b[1;33m\u001b[0m\u001b[0m\n\u001b[0m\u001b[0;32m      2\u001b[0m \u001b[0mscore_rf\u001b[0m\u001b[1;33m.\u001b[0m\u001b[0mhead\u001b[0m\u001b[1;33m(\u001b[0m\u001b[1;33m)\u001b[0m\u001b[1;33m\u001b[0m\u001b[1;33m\u001b[0m\u001b[0m\n",
      "\u001b[1;31mAttributeError\u001b[0m: 'RandomForestClassifier' object has no attribute 'cv_results_'"
     ]
    }
   ],
   "source": [
    "score_rf = pd.DataFrame(rf.cv_results_)\n",
    "score_rf.head()"
   ]
  },
  {
   "cell_type": "code",
   "execution_count": null,
   "id": "b295af1a",
   "metadata": {},
   "outputs": [],
   "source": []
  },
  {
   "cell_type": "code",
   "execution_count": 116,
   "id": "43bfa647",
   "metadata": {},
   "outputs": [
    {
     "name": "stdout",
     "output_type": "stream",
     "text": [
      "fpr : [0.         0.09739201 1.        ]\n",
      "tpr : [0.         0.60186916 1.        ]\n",
      "threshold : [2 1 0]\n"
     ]
    }
   ],
   "source": [
    "fpr,tpr,threshold=roc_curve(y_test,y_pred_rf)\n",
    "print(\"fpr :\",fpr)\n",
    "print(\"tpr :\",tpr)\n",
    "print(\"threshold :\",threshold)"
   ]
  },
  {
   "cell_type": "code",
   "execution_count": 119,
   "id": "a7ba2e13",
   "metadata": {},
   "outputs": [
    {
     "data": {
      "text/plain": [
       "0.752238572919285"
      ]
     },
     "execution_count": 119,
     "metadata": {},
     "output_type": "execute_result"
    }
   ],
   "source": [
    "#goodness of random forest model\n",
    "roc_auc=auc(fpr,tpr)\n",
    "roc_auc"
   ]
  },
  {
   "cell_type": "code",
   "execution_count": 143,
   "id": "97e0f794",
   "metadata": {},
   "outputs": [
    {
     "data": {
      "text/plain": [
       "{'bootstrap': False,\n",
       " 'max_depth': 4,\n",
       " 'max_features': 'sqrt',\n",
       " 'min_samples_leaf': 2,\n",
       " 'min_samples_split': 5,\n",
       " 'n_estimators': 33}"
      ]
     },
     "execution_count": 143,
     "metadata": {},
     "output_type": "execute_result"
    }
   ],
   "source": [
    "rf_grid.best_params_"
   ]
  },
  {
   "cell_type": "code",
   "execution_count": 205,
   "id": "d0740605",
   "metadata": {},
   "outputs": [
    {
     "data": {
      "text/plain": [
       "RandomForestClassifier(bootstrap=False, max_depth=4, max_features='sqrt',\n",
       "                       min_samples_leaf=2, min_samples_split=5, n_estimators=33,\n",
       "                       n_jobs=-1)"
      ]
     },
     "execution_count": 205,
     "metadata": {},
     "output_type": "execute_result"
    }
   ],
   "source": [
    "rf_grid.best_estimator_"
   ]
  },
  {
   "cell_type": "code",
   "execution_count": 145,
   "id": "20ae128b",
   "metadata": {},
   "outputs": [
    {
     "data": {
      "text/plain": [
       "0.8212915350846463"
      ]
     },
     "execution_count": 145,
     "metadata": {},
     "output_type": "execute_result"
    }
   ],
   "source": [
    "rf_grid.best_score_"
   ]
  },
  {
   "cell_type": "code",
   "execution_count": 146,
   "id": "4ce4f5e7",
   "metadata": {},
   "outputs": [
    {
     "name": "stdout",
     "output_type": "stream",
     "text": [
      "training accuracy with GridSearchCv:  0.8210995085995086\n",
      "testing accuracy with GridSearchCv:  0.8211269768155995\n"
     ]
    }
   ],
   "source": [
    "#checking accuracies with best params\n",
    "print('training accuracy with GridSearchCv: ',rf_grid.score(x_train,y_train))\n",
    "print('testing accuracy with GridSearchCv: ',rf_grid.score(x_test,y_test))"
   ]
  },
  {
   "cell_type": "markdown",
   "id": "53cf3584",
   "metadata": {},
   "source": [
    "### Prediction after hyperparameter tuning(model with GridSearchCV)"
   ]
  },
  {
   "cell_type": "code",
   "execution_count": 170,
   "id": "aa53e0b8",
   "metadata": {},
   "outputs": [],
   "source": [
    "y_pred_rf_gridsearch=rf_grid.predict(x_test)"
   ]
  },
  {
   "cell_type": "code",
   "execution_count": 171,
   "id": "bdf9de2a",
   "metadata": {},
   "outputs": [
    {
     "data": {
      "text/plain": [
       "array([0, 0, 0, ..., 1, 0, 0])"
      ]
     },
     "execution_count": 171,
     "metadata": {},
     "output_type": "execute_result"
    }
   ],
   "source": [
    "y_pred_rf_gridsearch"
   ]
  },
  {
   "cell_type": "code",
   "execution_count": 172,
   "id": "f2cc46be",
   "metadata": {},
   "outputs": [
    {
     "name": "stdout",
     "output_type": "stream",
     "text": [
      "Training Accuracy : 0.8210995085995086\n",
      "Testing Accuracy : 0.8211269768155995\n",
      "ROC AUC Score : 0.7918006665738727\n",
      "****************************************************************************************************\n",
      "[[4691  948]\n",
      " [ 217  657]]\n",
      "****************************************************************************************************\n",
      "              precision    recall  f1-score   support\n",
      "\n",
      "           0       0.96      0.83      0.89      5639\n",
      "           1       0.41      0.75      0.53       874\n",
      "\n",
      "    accuracy                           0.82      6513\n",
      "   macro avg       0.68      0.79      0.71      6513\n",
      "weighted avg       0.88      0.82      0.84      6513\n",
      "\n"
     ]
    }
   ],
   "source": [
    "# evaluating the RandomeForest model\n",
    "print(\"Training Accuracy :\", rf_grid.score(x_train, y_train))\n",
    "print(\"Testing Accuracy :\", rf_grid.score(x_test, y_test))\n",
    "print(\"ROC AUC Score :\", roc_auc_score(y_pred_rf_gridsearch,y_test))\n",
    "print('*'*100)\n",
    "print(confusion_matrix(y_pred_rf_gridsearch,y_test))\n",
    "print('*'*100)\n",
    "print(classification_report(y_pred_rf_gridsearch,y_test))"
   ]
  },
  {
   "cell_type": "code",
   "execution_count": 233,
   "id": "53dcef94",
   "metadata": {},
   "outputs": [
    {
     "name": "stdout",
     "output_type": "stream",
     "text": [
      "fpr : [0.         0.04421353 1.        ]\n",
      "tpr : [0.         0.40934579 1.        ]\n",
      "threshold : [2 1 0]\n"
     ]
    }
   ],
   "source": [
    "fpr,tpr,threshold=roc_curve(y_test,y_pred_rf_gridsearch)\n",
    "print(\"fpr :\",fpr)\n",
    "print(\"tpr :\",tpr)\n",
    "print(\"threshold :\",threshold)"
   ]
  },
  {
   "cell_type": "code",
   "execution_count": 234,
   "id": "8af09b99",
   "metadata": {},
   "outputs": [
    {
     "data": {
      "text/plain": [
       "0.682566132730084"
      ]
     },
     "execution_count": 234,
     "metadata": {},
     "output_type": "execute_result"
    }
   ],
   "source": [
    "#goodness of random forest model\n",
    "roc_auc=auc(fpr,tpr)\n",
    "roc_auc"
   ]
  },
  {
   "cell_type": "code",
   "execution_count": null,
   "id": "3d7cc135",
   "metadata": {},
   "outputs": [],
   "source": []
  },
  {
   "cell_type": "markdown",
   "id": "5a2f9021",
   "metadata": {},
   "source": [
    "# Using RandomSearchCv()"
   ]
  },
  {
   "cell_type": "code",
   "execution_count": 151,
   "id": "7ff80572",
   "metadata": {},
   "outputs": [],
   "source": [
    "from sklearn.model_selection import RandomizedSearchCV"
   ]
  },
  {
   "cell_type": "code",
   "execution_count": 147,
   "id": "b9badd95",
   "metadata": {},
   "outputs": [
    {
     "data": {
      "text/plain": [
       "{'bootstrap': True,\n",
       " 'ccp_alpha': 0.0,\n",
       " 'class_weight': None,\n",
       " 'criterion': 'gini',\n",
       " 'max_depth': None,\n",
       " 'max_features': 'auto',\n",
       " 'max_leaf_nodes': None,\n",
       " 'max_samples': None,\n",
       " 'min_impurity_decrease': 0.0,\n",
       " 'min_samples_leaf': 1,\n",
       " 'min_samples_split': 2,\n",
       " 'min_weight_fraction_leaf': 0.0,\n",
       " 'n_estimators': 100,\n",
       " 'n_jobs': None,\n",
       " 'oob_score': False,\n",
       " 'random_state': None,\n",
       " 'verbose': 0,\n",
       " 'warm_start': False}"
      ]
     },
     "execution_count": 147,
     "metadata": {},
     "output_type": "execute_result"
    }
   ],
   "source": [
    "RandomForestClassifier().get_params()"
   ]
  },
  {
   "cell_type": "markdown",
   "id": "13e39dae",
   "metadata": {},
   "source": [
    "Assigning the range of values for some important hyperparameters"
   ]
  },
  {
   "cell_type": "code",
   "execution_count": 156,
   "id": "09111475",
   "metadata": {},
   "outputs": [],
   "source": [
    "n_estimators= list(range(10,220,50))\n",
    "criterion= ['gini', 'entropy']\n",
    "max_depth= list(range(5,41,10))\n",
    "min_samples_split= [2,3,4,5,6]\n",
    "min_samples_leaf= [1,2,3,4]\n",
    "max_features= ['sqrt', 'log2']"
   ]
  },
  {
   "cell_type": "code",
   "execution_count": 157,
   "id": "ac6f8f50",
   "metadata": {},
   "outputs": [],
   "source": [
    "params_grid = {\n",
    "    'n_estimators': n_estimators,\n",
    "    'criterion': criterion,\n",
    "    'max_depth': max_depth,\n",
    "    'min_samples_split': min_samples_split,\n",
    "    'min_samples_leaf': min_samples_leaf,\n",
    "    'max_features': max_features\n",
    "}"
   ]
  },
  {
   "cell_type": "code",
   "execution_count": 164,
   "id": "97b0698d",
   "metadata": {},
   "outputs": [],
   "source": [
    "rf_random_search = RandomizedSearchCV(estimator=rf,\n",
    "                              param_distributions=params_grid,\n",
    "                              n_iter=10,\n",
    "                              cv=3,\n",
    "                              scoring=None,\n",
    "                              return_train_score=True,\n",
    "                              verbose=2,\n",
    "                              random_state=0)"
   ]
  },
  {
   "cell_type": "code",
   "execution_count": 165,
   "id": "dfe63070",
   "metadata": {},
   "outputs": [
    {
     "name": "stdout",
     "output_type": "stream",
     "text": [
      "Fitting 3 folds for each of 10 candidates, totalling 30 fits\n",
      "[CV] END criterion=gini, max_depth=35, max_features=sqrt, min_samples_leaf=4, min_samples_split=3, n_estimators=210; total time=   2.3s\n",
      "[CV] END criterion=gini, max_depth=35, max_features=sqrt, min_samples_leaf=4, min_samples_split=3, n_estimators=210; total time=   2.3s\n",
      "[CV] END criterion=gini, max_depth=35, max_features=sqrt, min_samples_leaf=4, min_samples_split=3, n_estimators=210; total time=   2.2s\n",
      "[CV] END criterion=gini, max_depth=25, max_features=log2, min_samples_leaf=3, min_samples_split=3, n_estimators=210; total time=   2.9s\n",
      "[CV] END criterion=gini, max_depth=25, max_features=log2, min_samples_leaf=3, min_samples_split=3, n_estimators=210; total time=   2.3s\n",
      "[CV] END criterion=gini, max_depth=25, max_features=log2, min_samples_leaf=3, min_samples_split=3, n_estimators=210; total time=   2.2s\n",
      "[CV] END criterion=entropy, max_depth=25, max_features=sqrt, min_samples_leaf=1, min_samples_split=5, n_estimators=60; total time=   0.8s\n",
      "[CV] END criterion=entropy, max_depth=25, max_features=sqrt, min_samples_leaf=1, min_samples_split=5, n_estimators=60; total time=   0.8s\n",
      "[CV] END criterion=entropy, max_depth=25, max_features=sqrt, min_samples_leaf=1, min_samples_split=5, n_estimators=60; total time=   0.9s\n",
      "[CV] END criterion=entropy, max_depth=5, max_features=sqrt, min_samples_leaf=2, min_samples_split=4, n_estimators=10; total time=   0.0s\n",
      "[CV] END criterion=entropy, max_depth=5, max_features=sqrt, min_samples_leaf=2, min_samples_split=4, n_estimators=10; total time=   0.0s\n",
      "[CV] END criterion=entropy, max_depth=5, max_features=sqrt, min_samples_leaf=2, min_samples_split=4, n_estimators=10; total time=   0.0s\n",
      "[CV] END criterion=gini, max_depth=35, max_features=log2, min_samples_leaf=3, min_samples_split=4, n_estimators=160; total time=   1.7s\n",
      "[CV] END criterion=gini, max_depth=35, max_features=log2, min_samples_leaf=3, min_samples_split=4, n_estimators=160; total time=   1.7s\n",
      "[CV] END criterion=gini, max_depth=35, max_features=log2, min_samples_leaf=3, min_samples_split=4, n_estimators=160; total time=   1.7s\n",
      "[CV] END criterion=entropy, max_depth=25, max_features=log2, min_samples_leaf=4, min_samples_split=3, n_estimators=160; total time=   1.9s\n",
      "[CV] END criterion=entropy, max_depth=25, max_features=log2, min_samples_leaf=4, min_samples_split=3, n_estimators=160; total time=   2.0s\n",
      "[CV] END criterion=entropy, max_depth=25, max_features=log2, min_samples_leaf=4, min_samples_split=3, n_estimators=160; total time=   2.0s\n",
      "[CV] END criterion=entropy, max_depth=15, max_features=sqrt, min_samples_leaf=2, min_samples_split=3, n_estimators=160; total time=   1.9s\n",
      "[CV] END criterion=entropy, max_depth=15, max_features=sqrt, min_samples_leaf=2, min_samples_split=3, n_estimators=160; total time=   1.9s\n",
      "[CV] END criterion=entropy, max_depth=15, max_features=sqrt, min_samples_leaf=2, min_samples_split=3, n_estimators=160; total time=   2.1s\n",
      "[CV] END criterion=gini, max_depth=15, max_features=sqrt, min_samples_leaf=4, min_samples_split=2, n_estimators=110; total time=   1.6s\n",
      "[CV] END criterion=gini, max_depth=15, max_features=sqrt, min_samples_leaf=4, min_samples_split=2, n_estimators=110; total time=   1.2s\n",
      "[CV] END criterion=gini, max_depth=15, max_features=sqrt, min_samples_leaf=4, min_samples_split=2, n_estimators=110; total time=   1.1s\n",
      "[CV] END criterion=gini, max_depth=25, max_features=log2, min_samples_leaf=4, min_samples_split=6, n_estimators=210; total time=   2.7s\n",
      "[CV] END criterion=gini, max_depth=25, max_features=log2, min_samples_leaf=4, min_samples_split=6, n_estimators=210; total time=   2.2s\n",
      "[CV] END criterion=gini, max_depth=25, max_features=log2, min_samples_leaf=4, min_samples_split=6, n_estimators=210; total time=   2.2s\n",
      "[CV] END criterion=entropy, max_depth=15, max_features=sqrt, min_samples_leaf=4, min_samples_split=5, n_estimators=210; total time=   2.5s\n",
      "[CV] END criterion=entropy, max_depth=15, max_features=sqrt, min_samples_leaf=4, min_samples_split=5, n_estimators=210; total time=   2.5s\n",
      "[CV] END criterion=entropy, max_depth=15, max_features=sqrt, min_samples_leaf=4, min_samples_split=5, n_estimators=210; total time=   2.5s\n"
     ]
    },
    {
     "data": {
      "text/plain": [
       "RandomizedSearchCV(cv=3,\n",
       "                   estimator=RandomForestClassifier(n_estimators=200,\n",
       "                                                    n_jobs=-1),\n",
       "                   param_distributions={'criterion': ['gini', 'entropy'],\n",
       "                                        'max_depth': [5, 15, 25, 35],\n",
       "                                        'max_features': ['sqrt', 'log2'],\n",
       "                                        'min_samples_leaf': [1, 2, 3, 4],\n",
       "                                        'min_samples_split': [2, 3, 4, 5, 6],\n",
       "                                        'n_estimators': [10, 60, 110, 160,\n",
       "                                                         210]},\n",
       "                   random_state=0, return_train_score=True, verbose=2)"
      ]
     },
     "execution_count": 165,
     "metadata": {},
     "output_type": "execute_result"
    }
   ],
   "source": [
    "rf_random_search.fit(x_train,y_train)"
   ]
  },
  {
   "cell_type": "code",
   "execution_count": 166,
   "id": "d22f5669",
   "metadata": {},
   "outputs": [
    {
     "data": {
      "text/plain": [
       "{'n_estimators': 210,\n",
       " 'min_samples_split': 5,\n",
       " 'min_samples_leaf': 4,\n",
       " 'max_features': 'sqrt',\n",
       " 'max_depth': 15,\n",
       " 'criterion': 'entropy'}"
      ]
     },
     "execution_count": 166,
     "metadata": {},
     "output_type": "execute_result"
    }
   ],
   "source": [
    "rf_random_search.best_params_"
   ]
  },
  {
   "cell_type": "code",
   "execution_count": 197,
   "id": "daf4816f",
   "metadata": {},
   "outputs": [
    {
     "data": {
      "text/plain": [
       "RandomForestClassifier(criterion='entropy', max_depth=15, max_features='sqrt',\n",
       "                       min_samples_leaf=4, min_samples_split=5,\n",
       "                       n_estimators=210, n_jobs=-1)"
      ]
     },
     "execution_count": 197,
     "metadata": {},
     "output_type": "execute_result"
    }
   ],
   "source": [
    "rf_random_search.best_estimator_"
   ]
  },
  {
   "cell_type": "code",
   "execution_count": 167,
   "id": "980ba0c4",
   "metadata": {},
   "outputs": [
    {
     "data": {
      "text/plain": [
       "0.8400260830710403"
      ]
     },
     "execution_count": 167,
     "metadata": {},
     "output_type": "execute_result"
    }
   ],
   "source": [
    "rf_random_search.best_score_"
   ]
  },
  {
   "cell_type": "code",
   "execution_count": 168,
   "id": "627a376d",
   "metadata": {},
   "outputs": [
    {
     "name": "stdout",
     "output_type": "stream",
     "text": [
      "training accuracy with GridSearchCv:  0.8735795454545454\n",
      "testing accuracy with GridSearchCv:  0.8409335175802242\n"
     ]
    }
   ],
   "source": [
    "#checking accuracies with best params\n",
    "print('training accuracy with GridSearchCv: ',rf_random_search.score(x_train,y_train))\n",
    "print('testing accuracy with GridSearchCv: ',rf_random_search.score(x_test,y_test))"
   ]
  },
  {
   "cell_type": "markdown",
   "id": "3b98a018",
   "metadata": {},
   "source": [
    "### Prediction after hyperparameter tuning(model with randome search)"
   ]
  },
  {
   "cell_type": "code",
   "execution_count": 173,
   "id": "12265d42",
   "metadata": {},
   "outputs": [],
   "source": [
    "y_pred_rf_randomsearch=rf_random_search.predict(x_test)"
   ]
  },
  {
   "cell_type": "code",
   "execution_count": 174,
   "id": "80c8e129",
   "metadata": {},
   "outputs": [
    {
     "data": {
      "text/plain": [
       "array([0, 0, 0, ..., 1, 0, 0])"
      ]
     },
     "execution_count": 174,
     "metadata": {},
     "output_type": "execute_result"
    }
   ],
   "source": [
    "y_pred_rf_randomsearch"
   ]
  },
  {
   "cell_type": "code",
   "execution_count": 175,
   "id": "fbd26bc3",
   "metadata": {},
   "outputs": [
    {
     "name": "stdout",
     "output_type": "stream",
     "text": [
      "Training Accuracy : 0.8735795454545454\n",
      "Testing Accuracy : 0.8409335175802242\n",
      "ROC AUC Score : 0.7956554875332207\n",
      "****************************************************************************************************\n",
      "[[4548  676]\n",
      " [ 360  929]]\n",
      "****************************************************************************************************\n",
      "              precision    recall  f1-score   support\n",
      "\n",
      "           0       0.93      0.87      0.90      5224\n",
      "           1       0.58      0.72      0.64      1289\n",
      "\n",
      "    accuracy                           0.84      6513\n",
      "   macro avg       0.75      0.80      0.77      6513\n",
      "weighted avg       0.86      0.84      0.85      6513\n",
      "\n"
     ]
    }
   ],
   "source": [
    "# evaluating the RandomeForest model\n",
    "print(\"Training Accuracy :\", rf_random_search.score(x_train, y_train))\n",
    "print(\"Testing Accuracy :\", rf_random_search.score(x_test, y_test))\n",
    "print(\"ROC AUC Score :\", roc_auc_score(y_pred_rf_randomsearch,y_test))\n",
    "print('*'*100)\n",
    "print(confusion_matrix(y_pred_rf_randomsearch,y_test))\n",
    "print('*'*100)\n",
    "print(classification_report(y_pred_rf_randomsearch,y_test))"
   ]
  },
  {
   "cell_type": "code",
   "execution_count": 235,
   "id": "10604c03",
   "metadata": {},
   "outputs": [
    {
     "name": "stdout",
     "output_type": "stream",
     "text": [
      "fpr : [0.         0.07334963 1.        ]\n",
      "tpr : [0.        0.5788162 1.       ]\n",
      "threshold : [2 1 0]\n"
     ]
    }
   ],
   "source": [
    "fpr,tpr,threshold=roc_curve(y_test,y_pred_rf_randomsearch)\n",
    "print(\"fpr :\",fpr)\n",
    "print(\"tpr :\",tpr)\n",
    "print(\"threshold :\",threshold)"
   ]
  },
  {
   "cell_type": "code",
   "execution_count": 236,
   "id": "219706f8",
   "metadata": {},
   "outputs": [
    {
     "data": {
      "text/plain": [
       "0.7527332830625567"
      ]
     },
     "execution_count": 236,
     "metadata": {},
     "output_type": "execute_result"
    }
   ],
   "source": [
    "#goodness of random forest model\n",
    "roc_auc=auc(fpr,tpr)\n",
    "roc_auc"
   ]
  },
  {
   "cell_type": "markdown",
   "id": "1fc01a1b",
   "metadata": {},
   "source": [
    "# Using xgboost model"
   ]
  },
  {
   "cell_type": "code",
   "execution_count": 176,
   "id": "9c6cecdc",
   "metadata": {},
   "outputs": [
    {
     "data": {
      "text/plain": [
       "XGBClassifier(base_score=0.5, booster='gbtree', callbacks=None,\n",
       "              colsample_bylevel=1, colsample_bynode=1, colsample_bytree=1,\n",
       "              early_stopping_rounds=None, enable_categorical=False,\n",
       "              eval_metric=None, feature_types=None, gamma=0, gpu_id=-1,\n",
       "              grow_policy='depthwise', importance_type=None,\n",
       "              interaction_constraints='', learning_rate=0.300000012,\n",
       "              max_bin=256, max_cat_threshold=64, max_cat_to_onehot=4,\n",
       "              max_delta_step=0, max_depth=6, max_leaves=0, min_child_weight=1,\n",
       "              missing=nan, monotone_constraints='()', n_estimators=100,\n",
       "              n_jobs=0, num_parallel_tree=1, predictor='auto', random_state=0, ...)"
      ]
     },
     "execution_count": 176,
     "metadata": {},
     "output_type": "execute_result"
    }
   ],
   "source": [
    "xgb=XGBClassifier()\n",
    "xgb.fit(x_train,y_train)"
   ]
  },
  {
   "cell_type": "code",
   "execution_count": 177,
   "id": "e24c06cc",
   "metadata": {},
   "outputs": [],
   "source": [
    "y_pred_xgb=xgb.predict(x_test)"
   ]
  },
  {
   "cell_type": "code",
   "execution_count": 178,
   "id": "3e656aad",
   "metadata": {},
   "outputs": [
    {
     "data": {
      "text/plain": [
       "array([0, 0, 0, ..., 1, 0, 0])"
      ]
     },
     "execution_count": 178,
     "metadata": {},
     "output_type": "execute_result"
    }
   ],
   "source": [
    "y_pred_xgb"
   ]
  },
  {
   "cell_type": "code",
   "execution_count": 179,
   "id": "73577870",
   "metadata": {},
   "outputs": [
    {
     "name": "stdout",
     "output_type": "stream",
     "text": [
      "Training Accuracy : 0.8935042997542998\n",
      "Testing Accuracy : 0.8343313373253493\n",
      "ROC AUC Score : 0.7805596883875411\n",
      "****************************************************************************************************\n",
      "[[4461  632]\n",
      " [ 447  973]]\n",
      "****************************************************************************************************\n",
      "              precision    recall  f1-score   support\n",
      "\n",
      "           0       0.91      0.88      0.89      5093\n",
      "           1       0.61      0.69      0.64      1420\n",
      "\n",
      "    accuracy                           0.83      6513\n",
      "   macro avg       0.76      0.78      0.77      6513\n",
      "weighted avg       0.84      0.83      0.84      6513\n",
      "\n"
     ]
    }
   ],
   "source": [
    "# evaluating the XGBClassifier model\n",
    "print(\"Training Accuracy :\", xgb.score(x_train, y_train))\n",
    "print(\"Testing Accuracy :\", xgb.score(x_test, y_test))\n",
    "print(\"ROC AUC Score :\", roc_auc_score(y_pred_xgb,y_test))\n",
    "print('*'*100)\n",
    "print(confusion_matrix(y_pred_xgb,y_test))\n",
    "print('*'*100)\n",
    "print(classification_report(y_pred_xgb,y_test))"
   ]
  },
  {
   "cell_type": "code",
   "execution_count": 239,
   "id": "b18ff7b0",
   "metadata": {},
   "outputs": [
    {
     "name": "stdout",
     "output_type": "stream",
     "text": [
      "fpr : [0.         0.09107579 1.        ]\n",
      "tpr : [0.         0.60623053 1.        ]\n",
      "threshold : [2 1 0]\n"
     ]
    }
   ],
   "source": [
    "fpr,tpr,threshold=roc_curve(y_test,y_pred_xgb)\n",
    "print(\"fpr :\",fpr)\n",
    "print(\"tpr :\",tpr)\n",
    "print(\"threshold :\",threshold)"
   ]
  },
  {
   "cell_type": "code",
   "execution_count": 240,
   "id": "f8655f88",
   "metadata": {},
   "outputs": [
    {
     "data": {
      "text/plain": [
       "0.7575773674869942"
      ]
     },
     "execution_count": 240,
     "metadata": {},
     "output_type": "execute_result"
    }
   ],
   "source": [
    "#goodness of random forest model\n",
    "roc_auc=auc(fpr,tpr)\n",
    "roc_auc"
   ]
  },
  {
   "cell_type": "markdown",
   "id": "adf27dc0",
   "metadata": {},
   "source": [
    "### Hyperparameter Tunning using GridSearchCV of XgBoost model"
   ]
  },
  {
   "cell_type": "code",
   "execution_count": 181,
   "id": "82325bc0",
   "metadata": {},
   "outputs": [
    {
     "data": {
      "text/plain": [
       "{'objective': 'binary:logistic',\n",
       " 'use_label_encoder': None,\n",
       " 'base_score': None,\n",
       " 'booster': None,\n",
       " 'callbacks': None,\n",
       " 'colsample_bylevel': None,\n",
       " 'colsample_bynode': None,\n",
       " 'colsample_bytree': None,\n",
       " 'early_stopping_rounds': None,\n",
       " 'enable_categorical': False,\n",
       " 'eval_metric': None,\n",
       " 'feature_types': None,\n",
       " 'gamma': None,\n",
       " 'gpu_id': None,\n",
       " 'grow_policy': None,\n",
       " 'importance_type': None,\n",
       " 'interaction_constraints': None,\n",
       " 'learning_rate': None,\n",
       " 'max_bin': None,\n",
       " 'max_cat_threshold': None,\n",
       " 'max_cat_to_onehot': None,\n",
       " 'max_delta_step': None,\n",
       " 'max_depth': None,\n",
       " 'max_leaves': None,\n",
       " 'min_child_weight': None,\n",
       " 'missing': nan,\n",
       " 'monotone_constraints': None,\n",
       " 'n_estimators': 100,\n",
       " 'n_jobs': None,\n",
       " 'num_parallel_tree': None,\n",
       " 'predictor': None,\n",
       " 'random_state': None,\n",
       " 'reg_alpha': None,\n",
       " 'reg_lambda': None,\n",
       " 'sampling_method': None,\n",
       " 'scale_pos_weight': None,\n",
       " 'subsample': None,\n",
       " 'tree_method': None,\n",
       " 'validate_parameters': None,\n",
       " 'verbosity': None}"
      ]
     },
     "execution_count": 181,
     "metadata": {},
     "output_type": "execute_result"
    }
   ],
   "source": [
    "XGBClassifier().get_params()"
   ]
  },
  {
   "cell_type": "code",
   "execution_count": 211,
   "id": "825397ad",
   "metadata": {},
   "outputs": [],
   "source": [
    "params={'learning_rate':[0.15,0.20],\n",
    "      'n_estimators': [100,120],\n",
    "      'min_child_weight':[1,3,5],\n",
    "      'max_depth': [3,4,5],\n",
    "      'gamma': [0.2,0.3,0.4],\n",
    "      'colsample_bytree': [0.3,0.4,0.5]\n",
    "       }"
   ]
  },
  {
   "cell_type": "code",
   "execution_count": 212,
   "id": "045cf0c7",
   "metadata": {},
   "outputs": [],
   "source": [
    "xgb_grid=GridSearchCV(estimator=xgb,param_grid=params,scoring=None,cv=3,verbose=1,return_train_score=True,n_jobs=-1)"
   ]
  },
  {
   "cell_type": "code",
   "execution_count": 213,
   "id": "93a5f346",
   "metadata": {},
   "outputs": [
    {
     "name": "stdout",
     "output_type": "stream",
     "text": [
      "Fitting 3 folds for each of 324 candidates, totalling 972 fits\n"
     ]
    },
    {
     "data": {
      "text/plain": [
       "GridSearchCV(cv=3,\n",
       "             estimator=XGBClassifier(base_score=0.5, booster='gbtree',\n",
       "                                     callbacks=None, colsample_bylevel=1,\n",
       "                                     colsample_bynode=1, colsample_bytree=1,\n",
       "                                     early_stopping_rounds=None,\n",
       "                                     enable_categorical=False, eval_metric=None,\n",
       "                                     feature_types=None, gamma=0, gpu_id=-1,\n",
       "                                     grow_policy='depthwise',\n",
       "                                     importance_type=None,\n",
       "                                     interaction_constraints='',\n",
       "                                     learning_rate=0.300000012...\n",
       "                                     max_leaves=0, min_child_weight=1,\n",
       "                                     missing=nan, monotone_constraints='()',\n",
       "                                     n_estimators=100, n_jobs=0,\n",
       "                                     num_parallel_tree=1, predictor='auto',\n",
       "                                     random_state=0, ...),\n",
       "             n_jobs=-1,\n",
       "             param_grid={'colsample_bytree': [0.3, 0.4, 0.5],\n",
       "                         'gamma': [0.2, 0.3, 0.4], 'learning_rate': [0.15, 0.2],\n",
       "                         'max_depth': [3, 4, 5], 'min_child_weight': [1, 3, 5],\n",
       "                         'n_estimators': [100, 120]},\n",
       "             return_train_score=True, verbose=1)"
      ]
     },
     "execution_count": 213,
     "metadata": {},
     "output_type": "execute_result"
    }
   ],
   "source": [
    "xgb_grid.fit(x_train,y_train)"
   ]
  },
  {
   "cell_type": "code",
   "execution_count": 215,
   "id": "65af8334",
   "metadata": {},
   "outputs": [
    {
     "data": {
      "text/plain": [
       "XGBClassifier(base_score=0.5, booster='gbtree', callbacks=None,\n",
       "              colsample_bylevel=1, colsample_bynode=1, colsample_bytree=0.4,\n",
       "              early_stopping_rounds=None, enable_categorical=False,\n",
       "              eval_metric=None, feature_types=None, gamma=0.2, gpu_id=-1,\n",
       "              grow_policy='depthwise', importance_type=None,\n",
       "              interaction_constraints='', learning_rate=0.15, max_bin=256,\n",
       "              max_cat_threshold=64, max_cat_to_onehot=4, max_delta_step=0,\n",
       "              max_depth=3, max_leaves=0, min_child_weight=1, missing=nan,\n",
       "              monotone_constraints='()', n_estimators=120, n_jobs=0,\n",
       "              num_parallel_tree=1, predictor='auto', random_state=0, ...)"
      ]
     },
     "execution_count": 215,
     "metadata": {},
     "output_type": "execute_result"
    }
   ],
   "source": [
    "xgb_grid.best_estimator_"
   ]
  },
  {
   "cell_type": "code",
   "execution_count": 217,
   "id": "896c6e60",
   "metadata": {},
   "outputs": [
    {
     "data": {
      "text/plain": [
       "{'colsample_bytree': 0.4,\n",
       " 'gamma': 0.2,\n",
       " 'learning_rate': 0.15,\n",
       " 'max_depth': 3,\n",
       " 'min_child_weight': 1,\n",
       " 'n_estimators': 120}"
      ]
     },
     "execution_count": 217,
     "metadata": {},
     "output_type": "execute_result"
    }
   ],
   "source": [
    "xgb_grid.best_params_"
   ]
  },
  {
   "cell_type": "code",
   "execution_count": 216,
   "id": "184fcde0",
   "metadata": {},
   "outputs": [
    {
     "data": {
      "text/plain": [
       "0.8432893543204495"
      ]
     },
     "execution_count": 216,
     "metadata": {},
     "output_type": "execute_result"
    }
   ],
   "source": [
    "xgb_grid.best_score_"
   ]
  },
  {
   "cell_type": "code",
   "execution_count": 230,
   "id": "aef8837e",
   "metadata": {},
   "outputs": [
    {
     "data": {
      "text/plain": [
       "XGBClassifier(base_score=0.5, booster='gbtree', callbacks=None,\n",
       "              colsample_bylevel=1, colsample_bynode=1, colsample_bytree=0.4,\n",
       "              early_stopping_rounds=None, enable_categorical=False,\n",
       "              eval_metric=None, feature_types=None, gamma=0.2, gpu_id=-1,\n",
       "              grow_policy='depthwise', importance_type=None,\n",
       "              interaction_constraints='', learning_rate=0.15, max_bin=256,\n",
       "              max_cat_threshold=64, max_cat_to_onehot=4, max_delta_step=0,\n",
       "              max_depth=3, max_leaves=0, min_child_weight=1, missing=nan,\n",
       "              monotone_constraints='()', n_estimators=120, n_jobs=0,\n",
       "              num_parallel_tree=1, predictor='auto', random_state=0, ...)"
      ]
     },
     "execution_count": 230,
     "metadata": {},
     "output_type": "execute_result"
    }
   ],
   "source": [
    "xgb_grid.best_estimator_"
   ]
  },
  {
   "cell_type": "code",
   "execution_count": 227,
   "id": "0657a1b2",
   "metadata": {},
   "outputs": [],
   "source": [
    "score=cross_val_score(xgb_classif,x_train,y_train,cv=5)"
   ]
  },
  {
   "cell_type": "code",
   "execution_count": 228,
   "id": "ddb6a16f",
   "metadata": {},
   "outputs": [
    {
     "data": {
      "text/plain": [
       "array([0.83704415, 0.83761996, 0.84740883, 0.8539067 , 0.8406604 ])"
      ]
     },
     "execution_count": 228,
     "metadata": {},
     "output_type": "execute_result"
    }
   ],
   "source": [
    "score"
   ]
  },
  {
   "cell_type": "markdown",
   "id": "5ee8b0de",
   "metadata": {},
   "source": [
    "### model testing with xgboost with its best hyperparameters"
   ]
  },
  {
   "cell_type": "code",
   "execution_count": 222,
   "id": "e1c6b8bf",
   "metadata": {},
   "outputs": [],
   "source": [
    "xgb_classif=XGBClassifier(colsample_bytree=0.4,\n",
    "                          gamma= 0.2,\n",
    "                          learning_rate= 0.15,\n",
    "                          max_depth= 3,\n",
    "                          min_child_weight= 1,\n",
    "                          n_estimators= 120)"
   ]
  },
  {
   "cell_type": "code",
   "execution_count": 223,
   "id": "a247e8bb",
   "metadata": {},
   "outputs": [
    {
     "data": {
      "text/plain": [
       "XGBClassifier(base_score=0.5, booster='gbtree', callbacks=None,\n",
       "              colsample_bylevel=1, colsample_bynode=1, colsample_bytree=0.4,\n",
       "              early_stopping_rounds=None, enable_categorical=False,\n",
       "              eval_metric=None, feature_types=None, gamma=0.2, gpu_id=-1,\n",
       "              grow_policy='depthwise', importance_type=None,\n",
       "              interaction_constraints='', learning_rate=0.15, max_bin=256,\n",
       "              max_cat_threshold=64, max_cat_to_onehot=4, max_delta_step=0,\n",
       "              max_depth=3, max_leaves=0, min_child_weight=1, missing=nan,\n",
       "              monotone_constraints='()', n_estimators=120, n_jobs=0,\n",
       "              num_parallel_tree=1, predictor='auto', random_state=0, ...)"
      ]
     },
     "execution_count": 223,
     "metadata": {},
     "output_type": "execute_result"
    }
   ],
   "source": [
    "xgb_classif.fit(x_train,y_train)"
   ]
  },
  {
   "cell_type": "code",
   "execution_count": 224,
   "id": "b12817b3",
   "metadata": {},
   "outputs": [],
   "source": [
    "y_pred_xgbclassif_with_hp=xgb_classif.predict(x_test)"
   ]
  },
  {
   "cell_type": "code",
   "execution_count": 225,
   "id": "ce1e5779",
   "metadata": {},
   "outputs": [
    {
     "data": {
      "text/plain": [
       "array([0, 0, 0, ..., 1, 0, 0])"
      ]
     },
     "execution_count": 225,
     "metadata": {},
     "output_type": "execute_result"
    }
   ],
   "source": [
    "y_pred_xgbclassif_with_hp"
   ]
  },
  {
   "cell_type": "code",
   "execution_count": 226,
   "id": "9786f616",
   "metadata": {},
   "outputs": [
    {
     "name": "stdout",
     "output_type": "stream",
     "text": [
      "Training Accuracy : 0.8491630835380836\n",
      "Testing Accuracy : 0.8466144633809305\n",
      "ROC AUC Score : 0.8014090516149226\n",
      "****************************************************************************************************\n",
      "[[4535  626]\n",
      " [ 373  979]]\n",
      "****************************************************************************************************\n",
      "              precision    recall  f1-score   support\n",
      "\n",
      "           0       0.92      0.88      0.90      5161\n",
      "           1       0.61      0.72      0.66      1352\n",
      "\n",
      "    accuracy                           0.85      6513\n",
      "   macro avg       0.77      0.80      0.78      6513\n",
      "weighted avg       0.86      0.85      0.85      6513\n",
      "\n"
     ]
    }
   ],
   "source": [
    "# evaluating the XGBClassifier model\n",
    "print(\"Training Accuracy :\", xgb_classif.score(x_train, y_train))\n",
    "print(\"Testing Accuracy :\", xgb_classif.score(x_test, y_test))\n",
    "print(\"ROC AUC Score :\", roc_auc_score(y_pred_xgbclassif_with_hp,y_test))\n",
    "print('*'*100)\n",
    "print(confusion_matrix(y_pred_xgbclassif_with_hp,y_test))\n",
    "print('*'*100)\n",
    "print(classification_report(y_pred_xgbclassif_with_hp,y_test))"
   ]
  },
  {
   "cell_type": "code",
   "execution_count": 266,
   "id": "23a1596e",
   "metadata": {},
   "outputs": [
    {
     "ename": "AttributeError",
     "evalue": "'XGBClassifier' object has no attribute 'cv_results_'",
     "output_type": "error",
     "traceback": [
      "\u001b[1;31m---------------------------------------------------------------------------\u001b[0m",
      "\u001b[1;31mAttributeError\u001b[0m                            Traceback (most recent call last)",
      "\u001b[1;32m~\\AppData\\Local\\Temp\\ipykernel_2692\\2649008164.py\u001b[0m in \u001b[0;36m<module>\u001b[1;34m\u001b[0m\n\u001b[1;32m----> 1\u001b[1;33m \u001b[0mscore_rf\u001b[0m \u001b[1;33m=\u001b[0m \u001b[0mpd\u001b[0m\u001b[1;33m.\u001b[0m\u001b[0mDataFrame\u001b[0m\u001b[1;33m(\u001b[0m\u001b[0mxgb_classif\u001b[0m\u001b[1;33m.\u001b[0m\u001b[0mcv_results_\u001b[0m\u001b[1;33m)\u001b[0m\u001b[1;33m\u001b[0m\u001b[1;33m\u001b[0m\u001b[0m\n\u001b[0m\u001b[0;32m      2\u001b[0m \u001b[0mscore_rf\u001b[0m\u001b[1;33m.\u001b[0m\u001b[0mhead\u001b[0m\u001b[1;33m(\u001b[0m\u001b[1;33m)\u001b[0m\u001b[1;33m\u001b[0m\u001b[1;33m\u001b[0m\u001b[0m\n",
      "\u001b[1;31mAttributeError\u001b[0m: 'XGBClassifier' object has no attribute 'cv_results_'"
     ]
    }
   ],
   "source": []
  },
  {
   "cell_type": "code",
   "execution_count": 259,
   "id": "9c4cb4dc",
   "metadata": {},
   "outputs": [
    {
     "data": {
      "text/plain": [
       "array([0.16199471, 0.06992092, 0.2068548 , ..., 0.75179756, 0.43947798,\n",
       "       0.02253771], dtype=float32)"
      ]
     },
     "execution_count": 259,
     "metadata": {},
     "output_type": "execute_result"
    }
   ],
   "source": [
    "y_proba_1=xgb_classif.predict_proba(x_test)[:,1]\n",
    "y_proba_1"
   ]
  },
  {
   "cell_type": "code",
   "execution_count": 260,
   "id": "c5998239",
   "metadata": {},
   "outputs": [],
   "source": [
    "fpr,tpr,thresholds=roc_curve(y_test,y_proba_1)"
   ]
  },
  {
   "cell_type": "code",
   "execution_count": 262,
   "id": "ef0ab115",
   "metadata": {},
   "outputs": [
    {
     "data": {
      "text/plain": [
       "array([1.9543483e+00, 9.5434839e-01, 9.0349418e-01, ..., 3.2596153e-04,\n",
       "       3.2430567e-04, 2.5096847e-04], dtype=float32)"
      ]
     },
     "execution_count": 262,
     "metadata": {},
     "output_type": "execute_result"
    }
   ],
   "source": [
    "thresholds"
   ]
  },
  {
   "cell_type": "code",
   "execution_count": 231,
   "id": "1a5f460d",
   "metadata": {},
   "outputs": [],
   "source": [
    "score=cross_val_score(xgb_classif,x_train,y_train,cv=5)"
   ]
  },
  {
   "cell_type": "code",
   "execution_count": 232,
   "id": "6f2b3a57",
   "metadata": {},
   "outputs": [
    {
     "data": {
      "text/plain": [
       "array([0.83704415, 0.83761996, 0.84740883, 0.8539067 , 0.8406604 ])"
      ]
     },
     "execution_count": 232,
     "metadata": {},
     "output_type": "execute_result"
    }
   ],
   "source": [
    "score"
   ]
  },
  {
   "cell_type": "markdown",
   "id": "9e90dd5f",
   "metadata": {},
   "source": [
    "So Xgboost give consistently good score on 5 fold cross validation"
   ]
  },
  {
   "cell_type": "code",
   "execution_count": 245,
   "id": "b021f85b",
   "metadata": {},
   "outputs": [
    {
     "data": {
      "text/plain": [
       "0.7669852386719375"
      ]
     },
     "execution_count": 245,
     "metadata": {},
     "output_type": "execute_result"
    }
   ],
   "source": [
    "#goodness of random forest model\n",
    "roc_auc_score(y_test,y_pred_xgbclassif_with_hp)"
   ]
  },
  {
   "cell_type": "code",
   "execution_count": 263,
   "id": "32d204d3",
   "metadata": {},
   "outputs": [
    {
     "data": {
      "text/plain": [
       "0.8956495466743851"
      ]
     },
     "execution_count": 263,
     "metadata": {},
     "output_type": "execute_result"
    }
   ],
   "source": [
    "roc_auc_score(y_test,y_proba_1)"
   ]
  },
  {
   "cell_type": "markdown",
   "id": "5db9f8c1",
   "metadata": {},
   "source": [
    "### Among Randome forest and XgBoost ,Randome forest model is giving best results."
   ]
  },
  {
   "cell_type": "markdown",
   "id": "0a8e205e",
   "metadata": {},
   "source": [
    "# So We will choose Randome Forest as our final model"
   ]
  },
  {
   "cell_type": "code",
   "execution_count": null,
   "id": "df7782ae",
   "metadata": {},
   "outputs": [],
   "source": []
  },
  {
   "cell_type": "code",
   "execution_count": null,
   "id": "606ac121",
   "metadata": {},
   "outputs": [],
   "source": []
  }
 ],
 "metadata": {
  "kernelspec": {
   "display_name": "Python 3 (ipykernel)",
   "language": "python",
   "name": "python3"
  },
  "language_info": {
   "codemirror_mode": {
    "name": "ipython",
    "version": 3
   },
   "file_extension": ".py",
   "mimetype": "text/x-python",
   "name": "python",
   "nbconvert_exporter": "python",
   "pygments_lexer": "ipython3",
   "version": "3.9.13"
  }
 },
 "nbformat": 4,
 "nbformat_minor": 5
}
